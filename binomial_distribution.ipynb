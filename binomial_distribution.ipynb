{
  "nbformat": 4,
  "nbformat_minor": 0,
  "metadata": {
    "colab": {
      "provenance": [],
      "authorship_tag": "ABX9TyMT2oqEBFR7aD8dv2euN4t/"
    },
    "kernelspec": {
      "name": "python3",
      "display_name": "Python 3"
    },
    "language_info": {
      "name": "python"
    }
  },
  "cells": [
    {
      "cell_type": "markdown",
      "source": [
        "# BINOMIAL DISTRIBUTION"
      ],
      "metadata": {
        "id": "0ut3QKS4ZWzh"
      }
    },
    {
      "cell_type": "code",
      "source": [
        "import random\n",
        "import numpy as np\n",
        "import matplotlib.pyplot as plt"
      ],
      "metadata": {
        "id": "4ZKC-p46qUds"
      },
      "execution_count": null,
      "outputs": []
    },
    {
      "cell_type": "markdown",
      "source": [
        "Watch this lecture: [Binomial distributions](https://www.youtube.com/watch?v=8idr1WZ1A7Q&list=PLZHQObOWTQDOjmo3Y6ADm0ScWAlEXf-fp&index=1) | Probabilities of probabilities, part 1\n",
        "\n",
        "Below here, i just tried to implement as code what is explained in the video, to clear my understanding."
      ],
      "metadata": {
        "id": "3igb5OSuZclW"
      }
    },
    {
      "cell_type": "code",
      "source": [
        "simulations=50\n",
        "prob_success = 0.95\n",
        "n = 50\n",
        "sims = []\n",
        "for _ in range(simulations):\n",
        "    x = np.random.uniform(0, 1, n) # generating a random number between 0 and 1\n",
        "    x = np.where(x<prob_success, 1, 0) # giving a 1 if random number is less than 0.95 else 0\n",
        "    sims.append(x)\n",
        "\n",
        "sims = np.array(sims) #all 50 simulations\n",
        "sims[:3]"
      ],
      "metadata": {
        "colab": {
          "base_uri": "https://localhost:8080/"
        },
        "id": "r4S6VTdZqa9j",
        "outputId": "b59b6012-fa67-4ddf-f0c1-f317610069f9"
      },
      "execution_count": null,
      "outputs": [
        {
          "output_type": "execute_result",
          "data": {
            "text/plain": [
              "array([[1, 1, 1, 1, 1, 1, 1, 1, 1, 1, 1, 1, 1, 1, 1, 1, 1, 1, 1, 1, 1, 1,\n",
              "        1, 1, 1, 0, 1, 1, 1, 1, 1, 1, 1, 1, 1, 1, 1, 1, 1, 1, 1, 1, 0, 1,\n",
              "        1, 1, 1, 1, 1, 1],\n",
              "       [1, 1, 1, 1, 1, 1, 1, 1, 1, 1, 1, 1, 1, 1, 1, 1, 1, 1, 1, 1, 1, 1,\n",
              "        1, 1, 1, 1, 1, 1, 1, 1, 1, 1, 1, 1, 1, 1, 1, 1, 1, 1, 1, 1, 1, 1,\n",
              "        1, 1, 1, 1, 1, 1],\n",
              "       [1, 1, 1, 1, 1, 1, 1, 1, 1, 1, 1, 1, 1, 1, 1, 1, 1, 1, 1, 1, 1, 1,\n",
              "        1, 1, 1, 1, 1, 1, 1, 1, 1, 1, 1, 1, 1, 1, 1, 1, 1, 1, 1, 1, 1, 1,\n",
              "        1, 1, 1, 1, 1, 1]])"
            ]
          },
          "metadata": {},
          "execution_count": 264
        }
      ]
    },
    {
      "cell_type": "code",
      "source": [
        "sims_pos = np.sum(sims, axis=1) # summing up the positive outcomes for each simulation\n",
        "sims_pos # we see 50 simulations here, the entry means eg, 47 means for first simulation, we got 47 positive outcome out of 50"
      ],
      "metadata": {
        "colab": {
          "base_uri": "https://localhost:8080/"
        },
        "id": "MfYqJCv09BmM",
        "outputId": "81b0782f-31c0-4598-fb18-236e3865a695"
      },
      "execution_count": null,
      "outputs": [
        {
          "output_type": "execute_result",
          "data": {
            "text/plain": [
              "array([48, 50, 50, 48, 47, 49, 48, 47, 49, 48, 47, 48, 44, 46, 49, 49, 49,\n",
              "       48, 49, 47, 47, 49, 49, 49, 47, 47, 47, 50, 48, 47, 47, 48, 49, 48,\n",
              "       49, 50, 49, 50, 50, 47, 47, 50, 45, 47, 46, 50, 47, 47, 48, 50])"
            ]
          },
          "metadata": {},
          "execution_count": 265
        }
      ]
    },
    {
      "cell_type": "code",
      "source": [
        "# how many such 'k' positive outcomes were observed in the simulated data\n",
        "k=49\n",
        "np.count_nonzero(sims_pos==k)/simulations"
      ],
      "metadata": {
        "colab": {
          "base_uri": "https://localhost:8080/"
        },
        "id": "8OU9ZDH51Kra",
        "outputId": "702a04d2-0c55-4945-d5c7-db5a1a2a487b"
      },
      "execution_count": null,
      "outputs": [
        {
          "output_type": "execute_result",
          "data": {
            "text/plain": [
              "0.24"
            ]
          },
          "metadata": {},
          "execution_count": 266
        }
      ]
    },
    {
      "cell_type": "code",
      "source": [
        "# unique number of positive outcomes observed\n",
        "# 46 means 46 times out of 50 were positive\n",
        "np.unique(sims_pos)"
      ],
      "metadata": {
        "colab": {
          "base_uri": "https://localhost:8080/"
        },
        "id": "f7D1bAkA3CEL",
        "outputId": "4462f83f-702e-4cb0-b33a-ea102ab4e8aa"
      },
      "execution_count": null,
      "outputs": [
        {
          "output_type": "execute_result",
          "data": {
            "text/plain": [
              "array([44, 45, 46, 47, 48, 49, 50])"
            ]
          },
          "metadata": {},
          "execution_count": 267
        }
      ]
    },
    {
      "cell_type": "code",
      "source": [
        "plt.hist(sims_pos)\n",
        "plt.ylabel('probabilities')\n",
        "plt.xlabel('n_positive_outcomes')\n",
        "locs, _ = plt.yticks()\n",
        "plt.yticks(locs, locs/len(sims_pos))\n",
        "plt.xticks(np.unique(sims_pos), horizontalalignment=\"right\")\n",
        "plt.grid(axis='y')\n",
        "plt.show()"
      ],
      "metadata": {
        "colab": {
          "base_uri": "https://localhost:8080/",
          "height": 455
        },
        "id": "IRCKynui3EAT",
        "outputId": "883f598f-45d8-4c36-d3c5-0ab9fc31b693"
      },
      "execution_count": null,
      "outputs": [
        {
          "output_type": "display_data",
          "data": {
            "text/plain": [
              "<Figure size 640x480 with 1 Axes>"
            ],
            "image/png": "[encoded data removed]"
          },
          "metadata": {}
        }
      ]
    },
    {
      "cell_type": "markdown",
      "source": [
        "## Lets try bigger simulation experiment\n",
        "\n",
        "simulations=250000, 50 outcomes each, Success probability=0.95"
      ],
      "metadata": {
        "id": "DWnOWREdOuaT"
      }
    },
    {
      "cell_type": "code",
      "source": [
        "simulations=250000\n",
        "prob_success = 0.95\n",
        "n = 50\n",
        "sims = []\n",
        "for _ in range(simulations):\n",
        "    x = np.random.uniform(0, 1, n)\n",
        "    x = np.where(x < prob_success, 1, 0)\n",
        "    sims.append(x)"
      ],
      "metadata": {
        "id": "xWVx2Kex_Gtm"
      },
      "execution_count": null,
      "outputs": []
    },
    {
      "cell_type": "code",
      "source": [
        "sims_pos = np.sum(sims, axis=1)\n",
        "sims_pos"
      ],
      "metadata": {
        "colab": {
          "base_uri": "https://localhost:8080/"
        },
        "id": "KRu-In4NC-N3",
        "outputId": "0d3a3cd2-6a92-49ce-a2a1-d2df963f98ff"
      },
      "execution_count": null,
      "outputs": [
        {
          "output_type": "execute_result",
          "data": {
            "text/plain": [
              "array([48, 48, 47, ..., 48, 45, 48])"
            ]
          },
          "metadata": {},
          "execution_count": 271
        }
      ]
    },
    {
      "cell_type": "code",
      "source": [
        "# probability for getting k success out of n outcome\n",
        "np.count_nonzero(sims_pos==46)/simulations"
      ],
      "metadata": {
        "colab": {
          "base_uri": "https://localhost:8080/"
        },
        "id": "o202oL82C4cX",
        "outputId": "a5e93735-05cb-4c8b-afbd-9dd4a87ba148"
      },
      "execution_count": null,
      "outputs": [
        {
          "output_type": "execute_result",
          "data": {
            "text/plain": [
              "0.136056"
            ]
          },
          "metadata": {},
          "execution_count": 272
        }
      ]
    },
    {
      "cell_type": "markdown",
      "source": [
        "Matplotlib, [histogram attribute density when True wasn't giving right results](https://stackoverflow.com/questions/55555466/matplotlib-hist-function-argument-density-not-working#:~:text=This%20is%20a%20known%20issue%20in%20Matplotlib.&text=When%20density%20%3D%20False%2C%20the%20histogram,does%20not%20mean%20anything%20useful.), so resorted to adjusting yticks"
      ],
      "metadata": {
        "id": "khANyduQYy2u"
      }
    },
    {
      "cell_type": "code",
      "source": [
        "# plot probability density\n",
        "plt.figure(figsize=(8,3))\n",
        "plt.hist(sims_pos, bins='auto')\n",
        "plt.xticks(range(51), rotation=90, fontsize=6)\n",
        "plt.ylabel('probability density')\n",
        "locs, _ = plt.yticks()\n",
        "plt.yticks(locs,np.round(locs/len(sims_pos),3))\n",
        "plt.xlabel('n_positive_outcomes')\n",
        "plt.grid(axis='y')\n",
        "plt.show()"
      ],
      "metadata": {
        "colab": {
          "base_uri": "https://localhost:8080/",
          "height": 313
        },
        "id": "3anMSWxr9SP0",
        "outputId": "2792a3c4-807e-49e2-9d5b-8647721d51aa"
      },
      "execution_count": null,
      "outputs": [
        {
          "output_type": "display_data",
          "data": {
            "text/plain": [
              "<Figure size 800x300 with 1 Axes>"
            ],
            "image/png": "[encoded data removed]"
          },
          "metadata": {}
        }
      ]
    },
    {
      "cell_type": "markdown",
      "source": [
        "Seaborn visualization is simpler"
      ],
      "metadata": {
        "id": "Dl_vXGBpYs9d"
      }
    },
    {
      "cell_type": "code",
      "source": [
        "import seaborn as sns\n",
        "sns.histplot(data=sims_pos, stat='probability', discrete=True)\n",
        "plt.grid(axis='y')\n",
        "plt.xlim([1, 51])\n",
        "plt.xticks(range(51), rotation=90, fontsize=6, ha='center')\n",
        "plt.xlabel('k success')\n",
        "plt.show()"
      ],
      "metadata": {
        "colab": {
          "base_uri": "https://localhost:8080/",
          "height": 446
        },
        "id": "8BAzLAdAXSjm",
        "outputId": "6f3185d0-fd01-4b37-ee34-b1dbd6c1f8e8"
      },
      "execution_count": null,
      "outputs": [
        {
          "output_type": "display_data",
          "data": {
            "text/plain": [
              "<Figure size 640x480 with 1 Axes>"
            ],
            "image/png": "[encoded data removed]"
          },
          "metadata": {}
        }
      ]
    },
    {
      "cell_type": "markdown",
      "source": [
        "## Computing Binomial probability using the probability function"
      ],
      "metadata": {
        "id": "nxEfT7Qncjx2"
      }
    },
    {
      "cell_type": "code",
      "source": [
        "import math\n",
        "\n",
        "# defining a function here to compute the probability\n",
        "def compute_binomial_prob(n, k, p):\n",
        "    binom_coeff = math.comb(n, k) ## getting total number of all possible combinations\n",
        "    prob_success = p**k  # the outcomes are independint so we multply all k positive probabilities\n",
        "    prob_failure = (1-p)**(n-k) # and these are product of negative probabilities for negative outcomes\n",
        "\n",
        "    return binom_coeff * prob_success * prob_failure"
      ],
      "metadata": {
        "id": "2DKtJ3P8-54s"
      },
      "execution_count": null,
      "outputs": []
    },
    {
      "cell_type": "code",
      "source": [
        "compute_binomial_prob(50, 48, 0.95)"
      ],
      "metadata": {
        "colab": {
          "base_uri": "https://localhost:8080/"
        },
        "id": "CgwunckyB4gn",
        "outputId": "379eb460-d8f2-4fb9-9034-91a7e0933bce"
      },
      "execution_count": null,
      "outputs": [
        {
          "output_type": "execute_result",
          "data": {
            "text/plain": [
              "0.2611013703988193"
            ]
          },
          "metadata": {},
          "execution_count": 116
        }
      ]
    },
    {
      "cell_type": "code",
      "source": [
        "compute_binomial_prob(50, 47, 0.95)"
      ],
      "metadata": {
        "colab": {
          "base_uri": "https://localhost:8080/"
        },
        "id": "vuVPhm4yCGfP",
        "outputId": "fc5e3f47-c740-4d58-d291-24df16a5ab46"
      },
      "execution_count": null,
      "outputs": [
        {
          "output_type": "execute_result",
          "data": {
            "text/plain": [
              "0.21987483823058493"
            ]
          },
          "metadata": {},
          "execution_count": 117
        }
      ]
    },
    {
      "cell_type": "markdown",
      "source": [
        "## Compare the probabilities from our simulation experiment with that computed using the probability function"
      ],
      "metadata": {
        "id": "1ALGs2kMdicY"
      }
    },
    {
      "cell_type": "markdown",
      "source": [
        "Binomial probabilty for 46 success out 50"
      ],
      "metadata": {
        "id": "P9jxz4iye5jH"
      }
    },
    {
      "cell_type": "code",
      "source": [
        "sim_exp_result = np.count_nonzero(sims_pos==46)/simulations\n",
        "sim_exp_result"
      ],
      "metadata": {
        "colab": {
          "base_uri": "https://localhost:8080/"
        },
        "id": "mjsMJlckc7bG",
        "outputId": "397f4429-4933-43d0-f878-3b2a535a338b"
      },
      "execution_count": null,
      "outputs": [
        {
          "output_type": "execute_result",
          "data": {
            "text/plain": [
              "0.136056"
            ]
          },
          "metadata": {},
          "execution_count": 299
        }
      ]
    },
    {
      "cell_type": "code",
      "source": [
        "compute_binomial_prob(50, 46, 0.95)"
      ],
      "metadata": {
        "colab": {
          "base_uri": "https://localhost:8080/"
        },
        "id": "Xp8FPsu2c89X",
        "outputId": "4fe9bf16-55c2-4d15-f45f-38b22258d68d"
      },
      "execution_count": null,
      "outputs": [
        {
          "output_type": "execute_result",
          "data": {
            "text/plain": [
              "0.13597522890575658"
            ]
          },
          "metadata": {},
          "execution_count": 300
        }
      ]
    },
    {
      "cell_type": "markdown",
      "source": [
        "Binomial probabilty for 42 success out 50"
      ],
      "metadata": {
        "id": "wywpcywOevrf"
      }
    },
    {
      "cell_type": "code",
      "source": [
        "np.count_nonzero(sims_pos==42)/simulations"
      ],
      "metadata": {
        "colab": {
          "base_uri": "https://localhost:8080/"
        },
        "id": "kJBMdsNXeCdX",
        "outputId": "83ef6763-4e8b-4a5e-801e-f3715dc8a36b"
      },
      "execution_count": null,
      "outputs": [
        {
          "output_type": "execute_result",
          "data": {
            "text/plain": [
              "0.00232"
            ]
          },
          "metadata": {},
          "execution_count": 304
        }
      ]
    },
    {
      "cell_type": "code",
      "source": [
        "compute_binomial_prob(50, 42, 0.95)"
      ],
      "metadata": {
        "colab": {
          "base_uri": "https://localhost:8080/"
        },
        "id": "sCgki42GeERH",
        "outputId": "048fa6cd-7b11-4d93-a91e-492ceda38df1"
      },
      "execution_count": null,
      "outputs": [
        {
          "output_type": "execute_result",
          "data": {
            "text/plain": [
              "0.00243235853107612"
            ]
          },
          "metadata": {},
          "execution_count": 305
        }
      ]
    }
  ]
}